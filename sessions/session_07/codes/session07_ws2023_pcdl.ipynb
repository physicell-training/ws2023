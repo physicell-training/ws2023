{
 "cells": [
  {
   "cell_type": "markdown",
   "id": "cbacbb8e-aac0-4c41-9cc0-aebcb2049d29",
   "metadata": {},
   "source": [
    "# Lesson 7: Working with PhysiCell Data in Python\n",
    "\n",
    "+ author: Elmar Bucher\n",
    "+ data: July 2023\n",
    "\n",
    "#### installation instruction:\n",
    "1. copy this Jupyter notebook into your PhysiCell folder\n",
    "2. open the notebook in Jupyter or JupterLab"
   ]
  },
  {
   "cell_type": "markdown",
   "id": "d056bbdb-0a0c-4f1a-ba59-5c9e41d81cb1",
   "metadata": {},
   "source": [
    "# Preparation"
   ]
  },
  {
   "cell_type": "code",
   "execution_count": null,
   "id": "cfdba2ad-5f73-48a1-8a4f-b94c93defa55",
   "metadata": {},
   "outputs": [],
   "source": [
    "# python library installation\n",
    "!pip3 install -U pcdl[all]  # full-fledged pcdl library (with anndata dependencies)\n",
    "!pip3 install -U scanpy[leiden]  # single cell analysis inclusive leiden graph clustering algorithm\n",
    "!pip3 install -U squidpy # single cell spatial analysis  # [interactive] \"napari<0.4.0\""
   ]
  },
  {
   "cell_type": "code",
   "execution_count": null,
   "id": "8296a849-ef7c-46e3-b81b-e0d21b667146",
   "metadata": {},
   "outputs": [],
   "source": [
    "# compile and run PhysiCell 2D interaction-sample project\n",
    "# note: this will easily take 10[min]\n",
    "\n",
    "#!make reset\n",
    "#!make data-clean\n",
    "#!make list-projects\n",
    "#!make interaction-sample\n",
    "#!make\n",
    "#!if [ ! -d output ]; then mkdir -p output; fi;\n",
    "#!./interaction_demo\n",
    "#!mv output output2d "
   ]
  },
  {
   "cell_type": "code",
   "execution_count": null,
   "id": "1eddc59f-05ca-47be-b397-e70dcbe1f016",
   "metadata": {},
   "outputs": [],
   "source": [
    "# compile and run the first 24 hours of the PhysiCell 3D cancer-immune-sample project\n",
    "# note: this will easily take 70[min]\n",
    "\n",
    "#!make reset\n",
    "#!make data-clean\n",
    "#!make list-projects\n",
    "#!make cancer-immune-sample\n",
    "#!make\n",
    "#!if [ ! -d output ]; then mkdir -p output; fi;\n",
    "#import xml.etree.ElementTree as ET\n",
    "#x_tree = ET.parse('config/PhysiCell_settings.xml')\n",
    "#x_root = x_tree.getroot()\n",
    "#x_element = x_root.find('.//overall/max_time')\n",
    "#x_element.text =  '1440'  # = 24[h] * 60[min/h]\n",
    "#x_tree.write(\n",
    "#    'config/PhysiCell_settings.xml',\n",
    "#    xml_declaration='<?xml version=\"1.0\" encoding=\"UTF-8\"?>'\n",
    "#)\n",
    "#!./cancer_immune_3D\n",
    "#!mv output output3d"
   ]
  },
  {
   "cell_type": "markdown",
   "id": "108ac84f-f0ff-4d7b-a8dc-a9e850654a08",
   "metadata": {},
   "source": [
    "# Interactive PhysiCell output data analysis"
   ]
  },
  {
   "cell_type": "code",
   "execution_count": null,
   "id": "583df14f-cc86-4529-b6ef-c23380fb32ae",
   "metadata": {},
   "outputs": [],
   "source": [
    "# library\n",
    "import anndata as ad  # from the scverse\n",
    "import json\n",
    "import matplotlib.pyplot as plt\n",
    "import matplotlib.patches as mpatches\n",
    "import numpy as np\n",
    "import pandas as pd\n",
    "import pcdl\n",
    "import scanpy as sc  # from the scverse\n",
    "import squidpy as sq  # from the scverse\n",
    "\n",
    "# const\n",
    "s_path_2d = 'output2d/'\n",
    "s_pathfile_2d = f'{s_path_2d}output00000009.xml'   # 24[h] = 1440[min]\n",
    "s_pathfile_3d = 'output3d/output00000024.xml'  # 24[h] = 1440[min]\n",
    "\n",
    "# pcdl version\n",
    "pcdl.__version__"
   ]
  },
  {
   "cell_type": "markdown",
   "id": "8c63c93a-6eed-481f-8232-8d3eb14fbd84",
   "metadata": {},
   "source": [
    "## Time Series - chronological list of mcds"
   ]
  },
  {
   "cell_type": "code",
   "execution_count": null,
   "id": "bf1db053-0cf8-4c02-ad5d-c459831b7045",
   "metadata": {},
   "outputs": [],
   "source": [
    "###################\n",
    "# LOAD TimeSeries #\n",
    "###################\n",
    "\n",
    "#mcdsts = pcdl.TimeSeries?\n",
    "mcdsts = pcdl.TimeSeries(s_path_2d) \n",
    "\n",
    "# note to the Warning: \n",
    "# these custom_data features are all numeric (not categorical), \n",
    "# the default float variable type is ok (if needed, other possible types are: int, bool, str). "
   ]
  },
  {
   "cell_type": "markdown",
   "id": "9260d1d7-4f7f-4aaa-a496-608257e1dc77",
   "metadata": {},
   "source": [
    "### time series: make_imgcell, make_imgsubs, make_gif, make_movie"
   ]
  },
  {
   "cell_type": "code",
   "execution_count": null,
   "id": "f6e73016-b789-4344-8eb0-e5e110a8f925",
   "metadata": {},
   "outputs": [],
   "source": [
    "# make images and movies\n",
    "\n",
    "#mcdsts.make_imgcell?\n",
    "#mcdsts.make_movie?\n",
    "#mcdsts.make_gif?\n",
    "\n",
    "#s_pathfile = mcdsts.make_imgcell()\n",
    "#print('path file:', s_pathfile)\n",
    "#mcdsts.make_movie(s_pathfile)\n",
    "#mcdsts.make_gif(s_pathfile)\n",
    "\n",
    "mcdsts.make_gif(mcdsts.make_imgcell())  # cmap='turbo'"
   ]
  },
  {
   "cell_type": "code",
   "execution_count": null,
   "id": "8312e423-2725-4ead-ad59-42b24f7e3d6c",
   "metadata": {},
   "outputs": [],
   "source": [
    "# make_imgcell and make_imgsubs difference\n",
    "\n",
    "#mcdsts.get_mcds_list()[0].get_substrate_names?\n",
    "#mcdsts.get_mcds_list()[0].get_conc_df().columns?\n",
    "\n",
    "#mcdsts.get_mcds_list()[0].get_cell_variables?\n",
    "#mcdsts.get_mcds_list()[0].get_cell_df().columns?\n",
    "\n",
    "for s_subs in mcdsts.get_mcds_list()[0].get_substrate_names():\n",
    "    mcdsts.make_gif(mcdsts.make_imgcell(s_subs, cmap='turbo'))\n",
    "    mcdsts.make_gif(mcdsts.make_imgsubs(s_subs, cmap='turbo'))\n",
    "    break"
   ]
  },
  {
   "cell_type": "markdown",
   "id": "bdf469ed-3e47-445a-b1aa-d19dceb23c1f",
   "metadata": {},
   "source": [
    "### time series: get_cell_df_states, get_conc_df_states"
   ]
  },
  {
   "cell_type": "code",
   "execution_count": null,
   "id": "7a47dca9-40ec-4e67-b65d-93cc3656185a",
   "metadata": {},
   "outputs": [],
   "source": [
    "#mcdsts.get_cell_df_states?\n",
    "\n",
    "dl_list = mcdsts.get_cell_df_states(allvalues=True)  # states=2\n",
    "print('total features df_cell:', len(dl_list))\n",
    "json.dump(dl_list, open(f'{s_path_2d}cell_df_feature_states.json', 'w'))"
   ]
  },
  {
   "cell_type": "code",
   "execution_count": null,
   "id": "ef2f9140-0de1-4d7e-9bf6-df4958a36f94",
   "metadata": {},
   "outputs": [],
   "source": [
    "#mcdsts.get_conc_df_states?\n",
    "\n",
    "dl_list = mcdsts.get_conc_df_states(allvalues=True)  # states=2\n",
    "print('total features df_conc:', len(dl_list))\n",
    "json.dump(dl_list, open(f'{s_path_2d}conc_df_feature_states.json', 'w'))"
   ]
  },
  {
   "cell_type": "markdown",
   "id": "e75f9174-25df-41af-813e-b6d84e6ed5a3",
   "metadata": {},
   "source": [
    "### time series: get_anndata"
   ]
  },
  {
   "cell_type": "code",
   "execution_count": null,
   "id": "0b6bd029-4671-4858-ad86-2e8a44647160",
   "metadata": {},
   "outputs": [],
   "source": [
    "#mcdsts.get_anndata?\n",
    "annts = mcdsts.get_anndata()\n",
    "#l_ann = mcdsts.get_anndata(collapse=False)"
   ]
  },
  {
   "cell_type": "code",
   "execution_count": null,
   "id": "a21877fc-9619-4909-801b-ca84440994ba",
   "metadata": {},
   "outputs": [],
   "source": [
    "print('annts:\\n', annts)\n",
    "print()\n",
    "print('l_ann:\\n', l_ann[0:3])"
   ]
  },
  {
   "cell_type": "markdown",
   "id": "b2417d68-0a96-40b3-8f73-200e1413efd3",
   "metadata": {},
   "source": [
    "## Time Step - one mcds"
   ]
  },
  {
   "cell_type": "code",
   "execution_count": null,
   "id": "0f62e8c8-2a0f-4e52-9694-8c22b37871f7",
   "metadata": {},
   "outputs": [],
   "source": [
    "#mcdsts.get_mcds_list?\n",
    "#mcdsts.get_mcds_list()\n",
    "mcds = mcdsts.get_mcds_list()[9]  # 24[h] = 1440[min]  # watch out: this mcds is a pyMCDS object and has no get_anndata function!"
   ]
  },
  {
   "cell_type": "code",
   "execution_count": null,
   "id": "ef1bd6bc-77f0-4c3f-a226-828b5e4f9290",
   "metadata": {},
   "outputs": [],
   "source": [
    "#mcdsts.get_anmcds_list?\n",
    "#mcdsts.get_anmcds_list()\n",
    "mcds = mcdsts.get_anmcds_list()[9]  # 24[h] = 1440[min]  # this mcds is a TimeStep object and has a get_anndata function!"
   ]
  },
  {
   "cell_type": "code",
   "execution_count": null,
   "id": "ea50545c-45ed-4f35-b242-077d3a88865a",
   "metadata": {},
   "outputs": [],
   "source": [
    "#################\n",
    "# LOAD TimeStep #\n",
    "#################\n",
    "\n",
    "# pcdl.TimeStep?\n",
    "mcds = pcdl.TimeStep(f'{s_path_2d}output00000009.xml')    # 24[h] = 1440[min]  # this mcds is a TimeStep object has a get_anndata functionality!"
   ]
  },
  {
   "cell_type": "markdown",
   "id": "2cd84d7b-89f6-4964-92e5-e19bc221d746",
   "metadata": {},
   "source": [
    "### time step: cell_df, conc_df, get_substarte_names"
   ]
  },
  {
   "cell_type": "code",
   "execution_count": null,
   "id": "dfac07d6-00f4-452b-be71-8e85adcc4265",
   "metadata": {},
   "outputs": [],
   "source": [
    "#df = mcds.get_cell_df?\n",
    "df_cell = mcds.get_cell_df(states=1)\n",
    "df_cell.info()\n",
    "sorted(df_cell.columns)"
   ]
  },
  {
   "cell_type": "code",
   "execution_count": null,
   "id": "ee165c0d-96d3-4bd7-a7ec-75fc6cef14a9",
   "metadata": {},
   "outputs": [],
   "source": [
    "df_subs = mcds.get_conc_df()\n",
    "df_subs.info()\n",
    "mcds.get_substrate_names()"
   ]
  },
  {
   "cell_type": "markdown",
   "id": "968244b6-c9e3-4551-b57b-7e00a83e224c",
   "metadata": {},
   "source": [
    "### time step: get_unit_se"
   ]
  },
  {
   "cell_type": "code",
   "execution_count": null,
   "id": "fbd8e4b0-4c6b-42f6-a93a-cffa78aa47be",
   "metadata": {},
   "outputs": [],
   "source": [
    "#mcds.get_unit_se?\n",
    "mcds.get_unit_se()"
   ]
  },
  {
   "cell_type": "markdown",
   "id": "582cbb31-53f7-4b33-917b-1798748e8402",
   "metadata": {},
   "source": [
    "### time step: get_anndata"
   ]
  },
  {
   "cell_type": "code",
   "execution_count": null,
   "id": "93050cdd-281c-4f98-a900-356c2b6974eb",
   "metadata": {},
   "outputs": [],
   "source": [
    "# loads only feature that have not the same value in all cells.\n",
    "# max absolute scales the features into a range between -1 and 1.\n",
    "ann = mcds.get_anndata(states=2, scale='maxabs')"
   ]
  },
  {
   "cell_type": "code",
   "execution_count": null,
   "id": "33b2b4ed-c243-46e5-977a-171afac05bd5",
   "metadata": {},
   "outputs": [],
   "source": [
    "# https://scverse.org/\n",
    "# https://anndata.readthedocs.io/en/latest/\n",
    "ann?"
   ]
  },
  {
   "cell_type": "code",
   "execution_count": null,
   "id": "cb974002-c38a-42f5-a5dd-fb6672b1ad1f",
   "metadata": {},
   "outputs": [],
   "source": [
    "ann\n",
    "#ann.obs.head()\n",
    "#ann.obsm\n",
    "#ann.obsm['spatial']\n",
    "#nn.var\n",
    "#ann.var.keys\n",
    "#ann.X"
   ]
  },
  {
   "cell_type": "code",
   "execution_count": null,
   "id": "d38ab0be-be9c-46b2-bd9d-9a308c92586a",
   "metadata": {},
   "outputs": [],
   "source": [
    "# save and load anndata objects\n",
    "ann.write(f'{s_path_2d}interaction_16200min.h5ad')"
   ]
  },
  {
   "cell_type": "code",
   "execution_count": null,
   "id": "b023f47f-d041-421d-a281-5472608c443e",
   "metadata": {},
   "outputs": [],
   "source": []
  },
  {
   "cell_type": "code",
   "execution_count": null,
   "id": "31de9364-d98b-49f4-bd87-b6be4f39ca69",
   "metadata": {},
   "outputs": [],
   "source": [
    "# save and load anndata objects\n",
    "ann = ad.read(f'{s_path_2d}interaction_16200min.h5ad')"
   ]
  },
  {
   "cell_type": "code",
   "execution_count": null,
   "id": "37749a1e-470c-4453-8b0f-de0c8282e283",
   "metadata": {},
   "outputs": [],
   "source": [
    "# features\n",
    "print('x_axis: genes: numerical features:\\n', ann.var_names)  # list the numerical features we have at hand (alternative way: ann.var.index).\n",
    "print('y_axis: cells: categorical features:\\n', ann.obs_keys())  # list the categories features we have at hand (alternative way: ann.obs.columns)."
   ]
  },
  {
   "cell_type": "markdown",
   "id": "540bb6d8-bf6b-480d-854f-d167574c3928",
   "metadata": {},
   "source": [
    "## Data Analysis with Pandas"
   ]
  },
  {
   "cell_type": "code",
   "execution_count": null,
   "id": "03037b14-bede-4d22-8b04-fefb164fc5b3",
   "metadata": {},
   "outputs": [],
   "source": [
    "df_cell.plot?"
   ]
  },
  {
   "cell_type": "markdown",
   "id": "54701eed-14e5-4b5e-8ae8-fa9e1f12b998",
   "metadata": {},
   "source": [
    "### time step: pandas plot categorical data"
   ]
  },
  {
   "cell_type": "code",
   "execution_count": null,
   "id": "0c4d52c9-fce9-4917-9ba4-603409f418fe",
   "metadata": {},
   "outputs": [],
   "source": [
    "# bar plot\n",
    "df = df_cell.loc[:,['cell_type']]   # ['cell_type','current_phase']\n",
    "df['count'] = '1'\n",
    "df_bar = df.groupby(['cell_type']).count()  # ['cell_type','current_phase']\n",
    "df_bar\n",
    "df_bar.plot(kind='bar')\n",
    "df_bar.plot(kind='barh')"
   ]
  },
  {
   "cell_type": "code",
   "execution_count": null,
   "id": "7a0b7480-40dd-4711-9a1c-b340f4639801",
   "metadata": {},
   "outputs": [],
   "source": [
    "# pie plot\n",
    "#df_bar.plot(kind='pie')\n",
    "#df_bar.plot(kind='pie', subplots=True)\n",
    "#df_bar.plot(kind='pie', y='count')\n",
    "df_bar.plot(kind='pie', y='count', legend=False, ylabel='', title='cell_type fraction')"
   ]
  },
  {
   "cell_type": "markdown",
   "id": "8d054ffc-2c99-46a2-9f0e-f93da0ff4f77",
   "metadata": {},
   "source": [
    "### time step: pandas plot numerical data"
   ]
  },
  {
   "cell_type": "code",
   "execution_count": null,
   "id": "ba3c317b-4a9e-409f-85ac-77a9002e26be",
   "metadata": {},
   "outputs": [],
   "source": [
    "# count histogram\n",
    "df_cell.loc[:,'toxin'].plot(kind='hist', bins=32, title='cell count toxin cell surrounding')  # series\n",
    "#df_cell.loc[:,['toxin']].plot(kind='hist', bins=32, title='cell surrounding toxin')  # datafarme\n",
    "#df_cell.loc[:,['toxin','debris','resource','pro-inflammatory']].plot(kind='hist', bins=32, title='cell surrounding substrate')  # stacked=True, alpha=0.5"
   ]
  },
  {
   "cell_type": "code",
   "execution_count": null,
   "id": "be4d094c-a927-45d9-b52f-c7acda8406b8",
   "metadata": {},
   "outputs": [],
   "source": [
    "# probability histogram\n",
    "se_toxin = df_cell.loc[:,'toxin']\n",
    "a_ones = np.ones_like(se_toxin.values)\n",
    "a_weight = a_ones / se_toxin.shape[0]\n",
    "se_toxin.plot(kind='hist', bins=32, title='cell fraction toxin in cell surrounding', weights=a_weight)"
   ]
  },
  {
   "cell_type": "code",
   "execution_count": null,
   "id": "dccdf6df-acc1-462a-9e74-596665a4c571",
   "metadata": {},
   "outputs": [],
   "source": [
    "# kde kernel density estimation\n",
    "df_cell.loc[:,['toxin','debris','resource', 'pro-inflammatory']].plot(kind='kde', title='cell surounding substrate')"
   ]
  },
  {
   "cell_type": "code",
   "execution_count": null,
   "id": "cd228ea6-762a-44f6-a9bf-e190da8a6ddc",
   "metadata": {},
   "outputs": [],
   "source": [
    "# box plot\n",
    "df_cell.loc[:,mcds.get_substrate_names()].plot(kind='box', title='cell surrounding substrate')"
   ]
  },
  {
   "cell_type": "markdown",
   "id": "c234d1ef-76e5-474e-9a3e-a32eb596e85e",
   "metadata": {},
   "source": [
    "### time step: pandas plot numerical, spatial data"
   ]
  },
  {
   "cell_type": "code",
   "execution_count": null,
   "id": "03c493e6-39be-4c62-96f4-24ea187074e1",
   "metadata": {},
   "outputs": [],
   "source": [
    "# scatter plot\n",
    "df_cell.plot(kind='scatter', x='position_x', y='position_y')\n",
    "\n",
    "## map cell_type and colors ##\n",
    "#sorted(df_cell.loc[:,'cell_type'].unique())\n",
    "ds_color = {\n",
    "    'CD8+_T_cell' : 'magenta',\n",
    "    'macrophage' : 'orange',\n",
    "    'neutrophil' : 'yellow',  \n",
    "    'bacteria' : 'black', \n",
    "    'blood_vessel' : 'red', \n",
    "    'differentiated' : 'green', \n",
    "    'stem' : 'lime', \n",
    "}\n",
    "\n",
    "df_cell['cell_type_color'] = None\n",
    "#print('df_cell before loop:\\n', df_cell.loc[:,['cell_type', 'cell_type_color']])  # show dataframe\n",
    "for s_celltype in df_cell.loc[:,'cell_type'].unique():\n",
    "    df_cell.loc[df_cell.loc[:,'cell_type'] == s_celltype, 'cell_type_color'] = ds_color[s_celltype]\n",
    "#print('df_cell after loop:\\n', df_cell.loc[:,['cell_type', 'cell_type_color']])  # show dataframe\n",
    "#df_cell.plot(kind='scatter', x='position_x', y='position_y', c=df_cell.loc[:,'cell_type_color'], s=9)\n",
    "\n",
    "## add color legend ##\n",
    "#lo_patch = []\n",
    "#for s_label, s_color in sorted(ds_color.items()):\n",
    "#    o_patch = mpatches.Patch(color=s_color, label=s_label)\n",
    "#    lo_patch.append(o_patch)\n",
    "\n",
    "#ax = plt.gca()\n",
    "#ax.legend(\n",
    "#    handles = lo_patch,\n",
    "#    loc = 'lower left',\n",
    "#    fontsize = 'small'\n",
    "#)"
   ]
  },
  {
   "cell_type": "code",
   "execution_count": null,
   "id": "3fa5d29d-f37f-44d7-87a1-cb2bb77feb79",
   "metadata": {},
   "outputs": [],
   "source": [
    "# here I break with the rule that pcdl is simply an interface\n",
    "#mcds.get_scatter?\n",
    "mcds.get_scatter()\n",
    "print()"
   ]
  },
  {
   "cell_type": "code",
   "execution_count": null,
   "id": "59900dc8-c3b7-4368-8d93-c58dd07c2de5",
   "metadata": {},
   "outputs": [],
   "source": [
    "# hexbin\n",
    "#df_subs.plot(kind='hexbin', x='mesh_center_m', y='mesh_center_n')\n",
    "df_subs.plot(kind='hexbin', x='mesh_center_m', y='mesh_center_n', C='toxin', gridsize=25, cmap='viridis', title='spatial toxin level')   # capital C!"
   ]
  },
  {
   "cell_type": "code",
   "execution_count": null,
   "id": "3fe1c4aa-3415-40a5-9e6a-0fe5420d4ae4",
   "metadata": {},
   "outputs": [],
   "source": [
    "# here I break with the rule that pcdl is simply an interface\n",
    "# matplotlib contour and contourf\n",
    "#mcds.getA_contour?\n",
    "mcds.get_contour('toxin', vmin=0, vmax=0.15) # fill=False\n",
    "print()"
   ]
  },
  {
   "cell_type": "markdown",
   "id": "eb004a0e-5c07-495e-827f-2634663b5b8e",
   "metadata": {},
   "source": [
    "### time series: pandas plot ordered data"
   ]
  },
  {
   "cell_type": "code",
   "execution_count": null,
   "id": "3613c970-ec0c-40b5-979a-d1975b45ccb3",
   "metadata": {},
   "outputs": [],
   "source": [
    "df_series = None\n",
    "for mcds in mcdsts.get_mcds_list():\n",
    "    df_cell = mcds.get_cell_df()\n",
    "    df_celltype = df_cell.loc[:,['cell_type','time']].copy()\n",
    "    # get count per cell type\n",
    "    s_time = str(list(df_celltype.loc[:,'time'])[0])\n",
    "    df_celltype.columns = ['cell_type', s_time]\n",
    "    df_count = df_celltype.groupby('cell_type').count()  # pandas dataframe\n",
    "    # store result    \n",
    "    if (df_series is None):\n",
    "        df_series = df_count\n",
    "    else:\n",
    "        df_series = pd.merge(df_series, df_count, left_index=True, right_index=True, how='outer')\n",
    "    #break\n",
    "\n",
    "df_series"
   ]
  },
  {
   "cell_type": "code",
   "execution_count": null,
   "id": "52717e32-954a-4f18-8039-c981d4f3bd44",
   "metadata": {},
   "outputs": [],
   "source": [
    "# line plot\n",
    "df_series.T.plot(kind='line', xlabel='time [min]', ylabel='count [cell]')  # logy=True"
   ]
  },
  {
   "cell_type": "code",
   "execution_count": null,
   "id": "1a614122-3ffb-4a52-990d-92ec6b4b2ad2",
   "metadata": {},
   "outputs": [],
   "source": [
    "# area plot\n",
    "df_series.T.plot(kind='area', xlabel='time [min]', ylabel='count [cell]')"
   ]
  },
  {
   "cell_type": "markdown",
   "id": "983377e1-7b79-463c-873c-b7265376106a",
   "metadata": {},
   "source": [
    "## Matplotlib Embedding of Pandas Plots"
   ]
  },
  {
   "cell_type": "code",
   "execution_count": null,
   "id": "036cb151-267c-4e81-97f2-f6a69e71b1a5",
   "metadata": {},
   "outputs": [],
   "source": [
    "# pandas to matplotlib\n",
    "fig, ax = plt.subplots(figsize=(9,6))\n",
    "fig.suptitle('cell_type and toxin')\n",
    "ax.axis('equal')\n",
    "mcds.get_contour('toxin', vmin=0, vmax=0.15, cmap='Blues', ax=ax)\n",
    "mcds.get_scatter(ax=ax)\n",
    "plt.tight_layout()\n",
    "fig.savefig(f'{s_path_2d}celltype_toxin_fusion.png', facecolor='white')\n",
    "#plt.close()"
   ]
  },
  {
   "cell_type": "code",
   "execution_count": null,
   "id": "497e56f0-02ef-4005-9f46-3ed316f9b11e",
   "metadata": {},
   "outputs": [],
   "source": [
    "# pandas to matplotlib\n",
    "fig, ax = plt.subplots(nrows=1, ncols=2, sharey=True, figsize=(15,6))\n",
    "fig.suptitle('cell_type and toxin')\n",
    "ax = ax.ravel()\n",
    "ax[0].axis('equal')\n",
    "ax[1].axis('equal')\n",
    "# scatter\n",
    "mcds.get_scatter(ax=ax[0])\n",
    "# contour\n",
    "mcds.get_contour('toxin', vmin=0, vmax=0.15, cmap='viridis', ax=ax[1])\n",
    "# finalize\n",
    "plt.tight_layout()\n",
    "fig.savefig(f'{s_path_2d}celltype_toxin_separate.png', facecolor='white')\n",
    "#plt.close()"
   ]
  },
  {
   "cell_type": "markdown",
   "id": "3421dfbe-a24f-459f-bb70-e37a666ac119",
   "metadata": {},
   "source": [
    "## Data Analysis with Scverse - the single cell universe"
   ]
  },
  {
   "cell_type": "markdown",
   "id": "cbed6442-2e17-4d07-905b-9f172f83720e",
   "metadata": {},
   "source": [
    "### Scanpy - basic single cell data analyis\n",
    "\n",
    "Here I only discuss the main Scanpy API.\n",
    "There is a whole scverse ecosystem built on top of AnnData\n",
    "\n",
    "+ pp: preprocessing\n",
    "+ tl: tools\n",
    "+ pl: plotting"
   ]
  },
  {
   "cell_type": "markdown",
   "id": "c7c83bd7-70e9-42df-9c4c-4a70613da5a3",
   "metadata": {},
   "source": [
    "#### Scanpy:  pca, t-sne, umap, leiden"
   ]
  },
  {
   "cell_type": "code",
   "execution_count": null,
   "id": "e06440ba-469d-46c7-9268-bf5c5952350e",
   "metadata": {},
   "outputs": [],
   "source": [
    "# principal component analysis\n",
    "sc.tl.pca(ann)  # process anndata object with the pca tool."
   ]
  },
  {
   "cell_type": "code",
   "execution_count": null,
   "id": "6afa1339-7ed0-4567-80ad-befb1d02e7b7",
   "metadata": {},
   "outputs": [],
   "source": [
    "#sc.pl.pca?\n",
    "sc.pl.pca(ann)  # plot pca result.\n",
    "#sc.pl.pca(ann, color=list(ann.var_names)+list(ann.obs_keys()))  # gotta catch 'em all! # ncols=3 projection='3d' color_map='turbo' palette='turbo'\n",
    "#sc.pl.pca(ann, color=['cell_type','current_phase'])  # plot the pca results colored by some features. \n",
    "#sc.pl.pca_variance_ratio(ann)  # plot how much of the variation each principal component captures.\n",
    "#sc.pl.pca_loadings(ann) #sc.pl.ranking(ann, attr=, key=) #???\n",
    "#sc.pl.pca_overview(ann, color=['cell_type','current_phase'])\n",
    "#sc.pl.pca(ann, save='interaction_16200min_pca.png')  # goes to figures directory"
   ]
  },
  {
   "cell_type": "code",
   "execution_count": null,
   "id": "20556657-5e9e-47ec-a025-0cc11f0503a7",
   "metadata": {},
   "outputs": [],
   "source": [
    "# generate and cluster neighborhood graph\n",
    "sc.pp.neighbors(ann, n_neighbors=15)  # compute the neighborhood graph with the neighbors preprocess step.\n",
    "sc.tl.leiden(ann, resolution=0.01)  # cluster the neighborhood graph with the leiden tool."
   ]
  },
  {
   "cell_type": "code",
   "execution_count": null,
   "id": "8c081531-a36d-479d-8d37-3d70a6465de1",
   "metadata": {},
   "outputs": [],
   "source": [
    "sc.pl.pca(ann, color='leiden')  # plot the pca results colored by leiden clusters."
   ]
  },
  {
   "cell_type": "code",
   "execution_count": null,
   "id": "9464e349-ccc9-4a60-82af-3e00c7ba06e9",
   "metadata": {},
   "outputs": [],
   "source": [
    "# umap dimensional reduction embedding\n",
    "sc.tl.umap(ann)  # process anndata object with the umap tool.\n",
    "sc.pl.umap(ann, color=['current_phase','cell_type','leiden'])  # plot the umap result colored by some features.,"
   ]
  },
  {
   "cell_type": "code",
   "execution_count": null,
   "id": "5ea553e2-4dc1-4c45-b9fd-befbf6970f9f",
   "metadata": {},
   "outputs": [],
   "source": [
    "# t-sne dimensional reduction embedding\n",
    "sc.tl.tsne(ann)  # process anndata object with the tsne tool.\n",
    "sc.pl.tsne(ann, color=['current_phase','cell_type','leiden'])  # plot the tsne result colored by some features."
   ]
  },
  {
   "cell_type": "code",
   "execution_count": null,
   "id": "51b3b898-92cd-44d0-818f-b2ccac4b2bf1",
   "metadata": {},
   "outputs": [],
   "source": [
    "# force-directed graph and other dimensional reduction embedding\n",
    "# force-directed is an alternative to tSNE that often preserves the topology of the data better.\n",
    "\n",
    "# igraph layouts:\n",
    "# ‘fa’ (ForceAtlas2) is default\n",
    "# ‘fr’ (Fruchterman Reingold), \n",
    "## ‘grid_fr’ (Grid Fruchterman Reingold, faster than ‘fr’)\n",
    "# ‘kk’ (Kamadi Kawai’, slower than ‘fr’), \n",
    "# ‘lgl’ (Large Graph, very fast), \n",
    "# ‘drl’ (Distributed Recursive Layout, pretty fast) \n",
    "# ‘rt’ (Reingold Tilford tree layout).\n",
    "# ‘rt_circular’\n",
    "\n",
    "#sc.tl.draw_graph?\n",
    "sc.tl.draw_graph(ann, layout='fa') \n",
    "sc.pl.draw_graph(ann, color=['current_phase', 'cell_type', 'leiden'])"
   ]
  },
  {
   "cell_type": "code",
   "execution_count": null,
   "id": "b82edcb1-bf5f-462f-8e1e-f5c78745d516",
   "metadata": {},
   "outputs": [],
   "source": [
    "# pl.pca, pl.umap, pl.tsne, and pl.draw_graph is based on pl.embedding\n",
    "sc.pl.embedding(ann, basis='X_pca', color=['current_phase', 'cell_type', 'leiden'])"
   ]
  },
  {
   "cell_type": "code",
   "execution_count": null,
   "id": "dde338a7-615a-4be0-bd0e-45ceb9d87434",
   "metadata": {},
   "outputs": [],
   "source": [
    "#sc.tl.embedding_density?\n",
    "#sc.tl.embedding_density(ann, basis='umap')\n",
    "#sc.pl.embedding_density(ann, basis='umap') \n",
    "\n",
    "sc.tl.embedding_density(ann, basis='umap', groupby='current_phase')\n",
    "sc.tl.embedding_density(ann, basis='umap', groupby='cell_type')\n",
    "sc.tl.embedding_density(ann, basis='umap', groupby='leiden')\n",
    "sc.pl.embedding_density(ann, basis='umap', key='umap_density_current_phase')\n",
    "sc.pl.embedding_density(ann, basis='umap', key='umap_density_cell_type')\n",
    "sc.pl.embedding_density(ann, basis='umap', key='umap_density_leiden')"
   ]
  },
  {
   "cell_type": "code",
   "execution_count": null,
   "id": "cb598a25-0a2b-478b-9705-cd3448912b52",
   "metadata": {},
   "outputs": [],
   "source": [
    "# Integrates embeddings and annotations of an adata with a reference dataset adata_ref\n",
    "sc.tl.ingest?"
   ]
  },
  {
   "cell_type": "code",
   "execution_count": null,
   "id": "07ccdc61-fd53-420f-898a-52eb4565dcfd",
   "metadata": {},
   "outputs": [],
   "source": [
    "# leiden cluster celltype mapping\n",
    "d_leiden = {\n",
    "    0: 'differentiated_a',\n",
    "    1: 'neutrophil',\n",
    "    2: 'CD8+_T_cell',\n",
    "    3: 'macrophage',\n",
    "    4: 'stem_a',\n",
    "    5: 'blood_vessel',\n",
    "    6: 'bacteria',  # dead and alive\n",
    "    7: 'differentiated_b',\n",
    "    8: 'stem_b',\n",
    "}\n",
    "ls_label = [s_label for _, s_label in sorted(d_leiden.items())]\n",
    "ann.rename_categories('leiden', ls_label)"
   ]
  },
  {
   "cell_type": "code",
   "execution_count": null,
   "id": "ac22bd3f-5da5-4736-8088-ed3bdfb69402",
   "metadata": {},
   "outputs": [],
   "source": [
    "sc.metrics.confusion_matrix(\"cell_type\", \"leiden\", ann.obs)  # pandas dataframe\n",
    "#import seaborn as sns\n",
    "#ax = sns.heatmap(sc.metrics.confusion_matrix(\"cell_type\", \"leiden\", ann.obs), cmap='viridis')\n",
    "#ax.set_title('hallo')"
   ]
  },
  {
   "cell_type": "code",
   "execution_count": null,
   "id": "581c01f5-4a00-48af-9e10-fc7d79df0802",
   "metadata": {},
   "outputs": [],
   "source": [
    "#help(sc.tl.dendrogram)\n",
    "#help(sc.pl.dendrogram)\n",
    "# https://flensted-mobiles.com/\n",
    "sc.tl.dendrogram(ann, groupby='cell_type')\n",
    "sc.pl.dendrogram(ann, groupby='cell_type')\n",
    "sc.tl.dendrogram(ann, groupby='leiden')\n",
    "sc.pl.dendrogram(ann, groupby='leiden')"
   ]
  },
  {
   "cell_type": "code",
   "execution_count": null,
   "id": "4a4ebb9a-efb9-4e4b-b012-7c2dc1f252de",
   "metadata": {},
   "outputs": [],
   "source": [
    "#sc.pl.dotplot?\n",
    "#sc.pl.dotplot(ann, ann.var_names, groupby='cell_type') # dendrogram=True\n",
    "sc.pl.dotplot(ann, ann.var_names, groupby='leiden', dendrogram=True)  # cmap='magma'"
   ]
  },
  {
   "cell_type": "code",
   "execution_count": null,
   "id": "75e7ec3a-1c11-422f-ad81-8aa98efab546",
   "metadata": {},
   "outputs": [],
   "source": [
    "#sc.pl.stacked_violin?\n",
    "sc.pl.stacked_violin(ann, ann.var_names, groupby='cell_type', cmap='inferno', dendrogram=True)\n",
    "#sc.pl.stacked_violin(ann, ann.var_names, groupby='leiden', cmap='inferno', dendrogram=True)"
   ]
  },
  {
   "cell_type": "code",
   "execution_count": null,
   "id": "0a06a49d-0816-49bf-94a2-535320bc436c",
   "metadata": {},
   "outputs": [],
   "source": [
    "#sc.pl.matrixplot?\n",
    "sc.pl.matrixplot(ann, var_names=ann.var_names, groupby='cell_type', cmap='RdBu_r', dendrogram=True)\n",
    "#sc.pl.matrixplot(ann, var_names=ann.var_names, groupby='leiden', cmap='RdBu_r', dendrogram=True)"
   ]
  },
  {
   "cell_type": "code",
   "execution_count": null,
   "id": "eda6187a-8b4e-4022-af26-0ffad2c43536",
   "metadata": {},
   "outputs": [],
   "source": [
    "sc.pl.heatmap(ann, var_names=ann.var_names, groupby='cell_type', cmap='RdBu_r', show_gene_labels=True,  dendrogram=True)\n",
    "#sc.pl.heatmap(ann, var_names=ann.var_names, groupby='leiden', cmap='RdBu_r', show_gene_labels=True,  dendrogram=True)"
   ]
  },
  {
   "cell_type": "code",
   "execution_count": null,
   "id": "27c710ed-89fc-484f-a808-bd8ac81b7027",
   "metadata": {},
   "outputs": [],
   "source": [
    "sc.pl.tracksplot(ann, var_names=ann.var_names, groupby='cell_type', dendrogram=True)\n",
    "#sc.pl.tracksplot(ann, var_names=ann.var_names, groupby='leiden', dendrogram=True)"
   ]
  },
  {
   "cell_type": "code",
   "execution_count": null,
   "id": "542d40f4-8c2e-40e0-b3a8-b3cb38e3fbd7",
   "metadata": {},
   "outputs": [],
   "source": [
    "sc.pl.clustermap(ann, cmap='RdBu_r', obs_keys='cell_type')\n",
    "#sc.pl.clustermap(ann, cmap='RdBu_r', obs_keys='leiden')"
   ]
  },
  {
   "cell_type": "markdown",
   "id": "f5aadba6-5552-4ac4-b6d2-4e018610e634",
   "metadata": {},
   "source": [
    "#### scanpy cell differentiation \n",
    "\n",
    "in physicell, we do not have this problem because we know the lineage trace.\n",
    "nevertheless, it might be interesting to try to apply these functions on adequate physicell output."
   ]
  },
  {
   "cell_type": "markdown",
   "id": "3a446d0a-c85a-4e98-8345-ffa0c69e9e23",
   "metadata": {},
   "source": [
    "diffusion map - for denoising the graph\n",
    "+ sc.tl.diffmap(ann, n_comps=15)\n",
    "+ sc.pl.diffmap\n",
    "\n",
    "paga - partition based graph abstraction\n",
    "+ sc.tl.paga(ann, groups='leiden')\n",
    "+ sc.pl.paga\n",
    "+ sc.pl.paga_compare\n",
    "+ sc.pl.paga_path\n",
    " \n",
    "dpt - diffussion pseudo time\n",
    "+ sc.tl.dpt\n",
    "+ sc.pl.dpt_groups_pseudotime\n",
    "+ sc.pl.dpt_timeseries"
   ]
  },
  {
   "cell_type": "markdown",
   "id": "e6c2285e-1708-404c-b136-bb346de3c0e9",
   "metadata": {},
   "source": [
    "#### scanpy gene expression\n",
    "\n",
    "the basic physicell feature data is quite different from log transformed gene expression data.\n",
    "these functions might become interesting for physiboss output analysis."
   ]
  },
  {
   "cell_type": "markdown",
   "id": "0cc42d8b-1e28-4adc-b1ca-54e31cabc280",
   "metadata": {
    "jp-MarkdownHeadingCollapsed": true
   },
   "source": [
    "genes\n",
    "+ sc.pl.highest_expr_genes  \n",
    "+ sc.pl.filter_genes_dispersion\n",
    "+ sc.pp.highly_variable_genes\n",
    "+ sc.pl.highly_variable_genes\n",
    "\n",
    "gene groups\n",
    "+ sc.tl.rank_genes_groups\n",
    "+ sc.tl.filter_rank_genes_groups\n",
    "+ sc.pl.rank_genes_groups\n",
    "+ sc.pl.rank_genes_groups_violin\n",
    "+ sc.pl.rank_genes_groups_stacked_violin\n",
    "+ sc.pl.rank_genes_groups_heatmap\n",
    "+ sc.pl.rank_genes_groups_dotplot\n",
    "+ sc.pl.rank_genes_groups_matrixplot\n",
    "+ sc.pl.rank_genes_groups_tracksplot\n",
    "\n",
    "gene score\n",
    "+ sc.tl.score_genes\n",
    "+ sc.tl.score_genes_cell_cycle\n",
    "+ sc.pl.ranking\n",
    "\n",
    "marker genes\n",
    "+ sc.tl.marker_gene_overlap (overlap score between data-deriven marker genes and provided markers)\n",
    "\n",
    "simulate dynamic gene expression data\n",
    "+ sc.tl.sim (sample from a stochastic differential equation model, for example built from literature-curated boolean gene regulatory networks.)\n"
   ]
  },
  {
   "cell_type": "markdown",
   "id": "81090366-bc46-4e71-8b82-5a84929c1736",
   "metadata": {},
   "source": [
    "#### scanpy spatial - the precursor for squidpy"
   ]
  },
  {
   "cell_type": "code",
   "execution_count": null,
   "id": "80613c40-8d20-4f5c-8f52-c35ace0e138c",
   "metadata": {},
   "outputs": [],
   "source": [
    "# spatial\n",
    "#sc.pl.spatial?  # e.g. H&E image could be put as background\n",
    "sc.pl.spatial(ann, spot_size=10)\n",
    "sc.pl.spatial(ann, spot_size=10, color=['cell_type','leiden','toxin','cell_density_micron3'], ncols=2)"
   ]
  },
  {
   "cell_type": "code",
   "execution_count": null,
   "id": "6df528bb-38bc-45cc-a7f9-3e33d6632813",
   "metadata": {},
   "outputs": [],
   "source": [
    "# generate fake H&E image\n",
    "#fig, ax = plt.subplots()\n",
    "#fig.canvas.draw()\n",
    "#mcds.get_cell_df().plot(kind='scatter', x='position_x', y='position_y', c='pink', s=128, ax=ax)\n",
    "#ax.set_ylim(ax.get_ylim()[::-1])\n",
    "#a_img = np.frombuffer(fig.canvas.tostring_rgb(), dtype=np.uint8)\n",
    "#a_img = a_img.reshape(fig.canvas.get_width_height()[::-1] + (3,))\n"
   ]
  },
  {
   "cell_type": "code",
   "execution_count": null,
   "id": "2c1f169a-fd63-41bd-9c14-c6fc12c982b6",
   "metadata": {},
   "outputs": [],
   "source": [
    "# autocorrelation in 2D\n",
    "# https://en.wikipedia.org/wiki/Geary's_C\n",
    "# https://en.wikipedia.org/wiki/Moran%27s_I\n",
    "gc = sc.metrics.gearys_c(ann)\n",
    "mi = sc.metrics.morans_i(ann)\n",
    "len(ann.var_names)\n",
    "pd.DataFrame([gc,mi], columns=ann.var_names)"
   ]
  },
  {
   "cell_type": "markdown",
   "id": "2796311b-0fa0-4d5d-9cb4-ef770ed7752f",
   "metadata": {},
   "source": [
    "#### scanpy logging"
   ]
  },
  {
   "cell_type": "code",
   "execution_count": null,
   "id": "72007463-5c5f-492f-b31b-5d0caf67e32a",
   "metadata": {},
   "outputs": [],
   "source": [
    "# version logging\n",
    "sc.logging.print_header()\n",
    "#sc.logging.print_versions()"
   ]
  },
  {
   "cell_type": "markdown",
   "id": "f1799438-e8bb-4453-9e01-2f3aeb3b9014",
   "metadata": {},
   "source": [
    "#### scanpy - time series?"
   ]
  },
  {
   "cell_type": "code",
   "execution_count": null,
   "id": "dffa7cf7-7bfc-40d7-8c81-0aad4b420d6c",
   "metadata": {},
   "outputs": [],
   "source": [
    "# time series - not collapsed\n",
    "\n",
    "# a list of time step anndata objects can be processed in the same way.\n",
    "#l_ann = mcdsts.get_anndata(collapse=False)"
   ]
  },
  {
   "cell_type": "code",
   "execution_count": null,
   "id": "413a0f8c-ca1b-4593-b131-ce974decda26",
   "metadata": {},
   "outputs": [],
   "source": [
    "# time series - collapsed\n",
    "\n",
    "# one anndata object for the whole time can  be processed in the same way.\n",
    "#annts = mcdsts.get_anndata()\n",
    "sc.pp.neighbors(annts, n_neighbors=15)  # compute the neighborhood graph with the neighbors preprocess step.\n",
    "sc.tl.leiden(annts, resolution=0.01)  # cluster the neighborhood graph with the leiden tool.\n",
    "sc.tl.umap(annts)  # process anndata object with the umap tool.\n",
    "sc.pl.umap(annts, color=['time','current_phase','cell_type','leiden'], ncols=2)  # plot the umap result colored by some features.,"
   ]
  },
  {
   "cell_type": "markdown",
   "id": "680e1460-ffad-42c9-9b27-72d615f97d3e",
   "metadata": {},
   "source": [
    "### Squidpy - spatial single cell data analysis"
   ]
  },
  {
   "cell_type": "code",
   "execution_count": null,
   "id": "59c5b722-e4b2-44e8-9889-203e7e080d1e",
   "metadata": {},
   "outputs": [],
   "source": [
    "#sq.pl.spatial_scatter?  \n",
    "sq.pl.spatial_scatter(ann, shape=None, color=\"cell_type\", size=40) #color=ds_color)  # H&E image could be put as background"
   ]
  },
  {
   "cell_type": "markdown",
   "id": "8821e353-8153-46c9-b24b-da6682b456ca",
   "metadata": {},
   "source": [
    "#### squidpy imaging"
   ]
  },
  {
   "cell_type": "markdown",
   "id": "061748b8-7825-4c9b-b60f-c63f7e711d49",
   "metadata": {},
   "source": [
    "+ sq.im.ImageContainer\n",
    "+ sq.im.process(img[, layer, library_id, method, ...]) # process an image by applying a transformation.\n",
    "+ sq.im.segment(img[, layer, library_id, method, ...])  # segment an image.\n",
    "+ sq.im.calculate_image_features(adata, img[, ...])  # calculate image features for all observations in adata.\n",
    "+ https://napari.org/stable/  # a fast, interactive viewer for multi-dimensional images in Python"
   ]
  },
  {
   "cell_type": "markdown",
   "id": "ba9174d7-49c4-4ccc-94c0-d4211b9f3f9d",
   "metadata": {},
   "source": [
    "#### squidpy graph"
   ]
  },
  {
   "cell_type": "code",
   "execution_count": null,
   "id": "acaa104e-8e62-4905-965e-a522d25f5322",
   "metadata": {},
   "outputs": [],
   "source": [
    "#sq.gr.spatial_neighbors(adata[, spatial_key, ...])  # generate a graph from spatial coordinates.\n",
    "#sq.gr.nhood_enrichment(adata, cluster_key[, ...])  # compute neighborhood enrichment by permutation test.\n",
    "#sq.gr.co_occurrence(adata, cluster_key[, ...])  # compute co-occurrence probability of clusters.\n",
    "#sq.centrality_scores(adata, cluster_key[, ...])  # compute centrality scores per cluster or cell type.\n",
    "#sq.gr.interaction_matrix(adata, cluster_key[, ...])  #compute interaction matrix for clusters.\n",
    "#sq.gr.ripley(adata, cluster_key[, mode, ...])  #calculate various Ripley's statistics for point processes.\n",
    "#sq.gr.ligrec(adata, cluster_key[, ...])  #perform the permutation test as described in [Efremova et al., 2020].\n",
    "#sq.gr.spatial_autocorr(adata[, ...])  #Calculate Global Autocorrelation Statistic (Moran’s I or Geary's C).\n",
    "#sq.gr.sepal(adata, max_neighs[, genes, n_iter, ...])"
   ]
  },
  {
   "cell_type": "markdown",
   "id": "cd64ae2e-99c0-4d90-ad4d-9998304d0675",
   "metadata": {},
   "source": [
    "#### squidpy plot"
   ]
  },
  {
   "cell_type": "code",
   "execution_count": null,
   "id": "27372873-796d-4a7f-8e12-961b8dfa59fd",
   "metadata": {},
   "outputs": [],
   "source": [
    "# sq.tl.var_by_distance(adata, groups, cluster_key)  # build a design matrix consisting of distance measurements to selected anchor point(s) for each observation."
   ]
  },
  {
   "cell_type": "code",
   "execution_count": null,
   "id": "9af10e0c-d811-4c97-a0b4-e9ecf52a8a92",
   "metadata": {},
   "outputs": [],
   "source": [
    "# sq.pl.spatial_scatter(adata[, shape, color, ...])  # plot spatial omics data with data overlayed on top.\n",
    "# sq.pl.spatial_segment(adata[, color, groups, ...])  # plot spatial omics data with segmentation masks on top.\n",
    "# sq.pl.nhood_enrichment(adata, cluster_key[, ...])  # plot neighborhood enrichment.\n",
    "# sq.pl.centrality_scores(adata, cluster_key[, ...])  # plot centrality scores.\n",
    "# sq.pl.interaction_matrix(adata, cluster_key[, ...])  # plot cluster interaction matrix.\n",
    "# sq.pl.ligrec(adata[, cluster_key, ...])  # plot the result of a receptor-ligand permutation test.\n",
    "# sq.pl.ripley(adata, cluster_key[, mode, ...])  # plot Ripley's statistics for each cluster.\n",
    "# sq.pl.co_occurrence(adata, cluster_key[, ...])  # plot co-occurrence probability ratio for each cluster.\n",
    "# sq.pl.extract(adata[, obsm_key, prefix])  # create a temporary anndata.AnnData object for plotting.\n",
    "# sq.pl.var_by_distance(adata, var, anchor_key[, ...])  # plot a variable using a smooth regression line with increasing distance to an anchor point."
   ]
  },
  {
   "cell_type": "markdown",
   "id": "b256152e-cdad-4446-b268-137d6480c846",
   "metadata": {},
   "source": [
    "#### for example squidpy - neighborhood enrichment"
   ]
  },
  {
   "cell_type": "code",
   "execution_count": null,
   "id": "25dcdae7-f7f1-4fa2-8a07-e13fac5dfbce",
   "metadata": {},
   "outputs": [],
   "source": [
    "sq.gr.spatial_neighbors(ann, coord_type=\"generic\", spatial_key=\"spatial\")\n",
    "sq.gr.nhood_enrichment(ann, cluster_key=\"cell_type\")\n",
    "sq.pl.nhood_enrichment(ann, cluster_key=\"cell_type\", method=\"single\", cmap=\"inferno\", vmin=-50, vmax=100)"
   ]
  },
  {
   "cell_type": "code",
   "execution_count": null,
   "id": "b37ae1f2-a4d5-4693-b175-ea4a596bf5aa",
   "metadata": {},
   "outputs": [],
   "source": []
  },
  {
   "cell_type": "markdown",
   "id": "4b1ed800-0c8b-42c9-9668-006f377f197d",
   "metadata": {},
   "source": [
    "#### squidpy 3D"
   ]
  },
  {
   "cell_type": "code",
   "execution_count": null,
   "id": "35b0bc13-857f-4940-bc01-ca96cca051ac",
   "metadata": {},
   "outputs": [],
   "source": [
    "# load data\n",
    "mcds3d = pcdl.TimeStep(s_pathfile_3d)  # 24[h] = 1440[min]\n",
    "ann3d = mcds3d.get_anndata()"
   ]
  },
  {
   "cell_type": "code",
   "execution_count": null,
   "id": "3ac8dd76-89ad-4100-be48-9dca7d5a326e",
   "metadata": {},
   "outputs": [],
   "source": [
    "#ann3d\n",
    "#ann3d.obs.z_layer.unique()\n",
    "sc.pl.embedding(ann3d, basis=\"spatial\", projection=\"3d\", color=[\"cell_type\",\"pressure\",\"oxygen\",\"z_layer\"]) "
   ]
  },
  {
   "cell_type": "code",
   "execution_count": null,
   "id": "e54e4630-796a-451a-90ea-8277dcd72b05",
   "metadata": {},
   "outputs": [],
   "source": [
    "sq.pl.spatial_scatter(ann3d[ann3d.obs.z_layer == 0], shape=None, color=[\"cell_type\",\"pressure\",\"oxygen\",\"z_layer\"], size=128)\n",
    "#sc.pl.spatial(ann3d[ann3d.obs.z_layer == 0], shape=None, color=[\"cell_type\",\"pressure\",\"oxygen\",\"z_layer\"], size=128)\n",
    "#ann3d.uns.keys()"
   ]
  },
  {
   "cell_type": "markdown",
   "id": "099b5504-dbd8-456b-bc04-93531b1c6237",
   "metadata": {},
   "source": [
    "### the other scverse libraries\n",
    "\n",
    "https://scverse.org/\n",
    "\n",
    "data objects\n",
    "+ spatialdata  # spatial data object based on anndata\n",
    "+ mudata  # multimodal data object based on anndata\n",
    "\n",
    "analysis frame works\n",
    "+ muon  # multi-omics analysis\n",
    "+ scvi-tools  # single cell machine learning\n",
    "+ scirpy  # single cell immune sequencing"
   ]
  },
  {
   "cell_type": "code",
   "execution_count": null,
   "id": "a3c50995-7bb2-4225-998f-e96dd1e4333e",
   "metadata": {},
   "outputs": [],
   "source": []
  }
 ],
 "metadata": {
  "kernelspec": {
   "display_name": "Python 3 (ipykernel)",
   "language": "python",
   "name": "python3"
  },
  "language_info": {
   "codemirror_mode": {
    "name": "ipython",
    "version": 3
   },
   "file_extension": ".py",
   "mimetype": "text/x-python",
   "name": "python",
   "nbconvert_exporter": "python",
   "pygments_lexer": "ipython3",
   "version": "3.10.12"
  }
 },
 "nbformat": 4,
 "nbformat_minor": 5
}
